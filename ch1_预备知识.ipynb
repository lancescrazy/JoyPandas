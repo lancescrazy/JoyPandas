{
 "cells": [
  {
   "cell_type": "markdown",
   "metadata": {},
   "source": [
    "# 一、Python 基础进阶\n",
    "### 1. 列表推导式与条件赋值\n"
   ]
  },
  {
   "cell_type": "code",
   "execution_count": 1,
   "metadata": {},
   "outputs": [
    {
     "data": {
      "text/plain": [
       "['a_c', 'a_d', 'b_c', 'b_d']"
      ]
     },
     "execution_count": 1,
     "metadata": {},
     "output_type": "execute_result"
    }
   ],
   "source": [
    "[m + '_' + n for m in ['a', 'b'] for n in ['c', 'd']]"
   ]
  },
  {
   "cell_type": "code",
   "execution_count": 2,
   "metadata": {},
   "outputs": [
    {
     "data": {
      "text/plain": [
       "'cat'"
      ]
     },
     "execution_count": 2,
     "metadata": {},
     "output_type": "execute_result"
    }
   ],
   "source": [
    "value = 'cat' if 2 > 1 else 'dog'\n",
    "value"
   ]
  },
  {
   "cell_type": "code",
   "execution_count": 3,
   "metadata": {},
   "outputs": [
    {
     "data": {
      "text/plain": [
       "[1, 2, 3, 4, 5, 5, 5]"
      ]
     },
     "execution_count": 3,
     "metadata": {},
     "output_type": "execute_result"
    }
   ],
   "source": [
    "L = [1, 2, 3, 4, 5, 6, 7]\n",
    "[i if i <= 5 else 5 for i in L]"
   ]
  },
  {
   "cell_type": "markdown",
   "metadata": {},
   "source": [
    "### 2. 匿名函数与 map 方法"
   ]
  },
  {
   "cell_type": "code",
   "execution_count": 4,
   "metadata": {},
   "outputs": [
    {
     "data": {
      "text/plain": [
       "8"
      ]
     },
     "execution_count": 4,
     "metadata": {},
     "output_type": "execute_result"
    }
   ],
   "source": [
    "my_func = lambda x: 2 * x\n",
    "my_func(4)"
   ]
  },
  {
   "cell_type": "markdown",
   "metadata": {},
   "source": [
    "##### map 让匿名函数更简洁\n"
   ]
  },
  {
   "cell_type": "code",
   "execution_count": 5,
   "metadata": {},
   "outputs": [
    {
     "data": {
      "text/plain": [
       "['0_a', '1_b', '2_c', '3_d', '4_e']"
      ]
     },
     "execution_count": 5,
     "metadata": {},
     "output_type": "execute_result"
    }
   ],
   "source": [
    "list(map(lambda x, y: str(x) + '_' + y, range(5), list('abcde')))\n"
   ]
  },
  {
   "cell_type": "markdown",
   "metadata": {},
   "source": [
    "### 3. zip 对象与enumerate 方法\n",
    "当两个列表建立字典映射，或一个列表的下标和原色建立字典映射"
   ]
  },
  {
   "cell_type": "code",
   "execution_count": 6,
   "metadata": {},
   "outputs": [
    {
     "name": "stdout",
     "output_type": "stream",
     "text": [
      "---------- zip -------------\n",
      "a d h\n",
      "b e i\n",
      "c f j\n",
      "---------- enumenate ---------\n",
      "0 ('a', 'd', 'h')\n",
      "1 ('b', 'e', 'i')\n",
      "2 ('c', 'f', 'j')\n"
     ]
    }
   ],
   "source": [
    "L1, L2, L3 = list('abc'), list('def'), list('hij')\n",
    "print('---------- zip -------------')\n",
    "for i, j, k in zip(L1, L2, L3):\n",
    "    print(i, j, k)\n",
    "print('---------- enumenate ---------')\n",
    "for index, value in enumerate(zip(L1, L2, L3)):\n",
    "    print(index, value)"
   ]
  },
  {
   "cell_type": "markdown",
   "metadata": {},
   "source": [
    "##### zip 的是压缩，×zipped 对应的是解压缩"
   ]
  },
  {
   "cell_type": "code",
   "execution_count": 7,
   "metadata": {},
   "outputs": [
    {
     "data": {
      "text/plain": [
       "[('a', 'b', 'c'), ('d', 'e', 'f'), ('h', 'i', 'j')]"
      ]
     },
     "execution_count": 7,
     "metadata": {},
     "output_type": "execute_result"
    }
   ],
   "source": [
    "zipped = list(zip(L1, L2, L3))\n",
    "list(zip(*zipped))"
   ]
  },
  {
   "cell_type": "markdown",
   "metadata": {},
   "source": [
    "# 二、 Numpy 基础\n"
   ]
  },
  {
   "cell_type": "markdown",
   "metadata": {},
   "source": [
    "### 1. 构造（基础部分）"
   ]
  },
  {
   "cell_type": "code",
   "execution_count": 8,
   "metadata": {},
   "outputs": [
    {
     "name": "stdout",
     "output_type": "stream",
     "text": [
      "----------- 1 ----------\n",
      "[1 2 3]\n",
      "\n",
      "----------- 2 ----------\n",
      "[1.  1.4 1.8 2.2 2.6 3.  3.4 3.8 4.2 4.6 5. ]\n",
      "\n",
      "----------- 3 ----------\n",
      "[1 3]\n",
      "\n",
      "----------- 4 ----------\n",
      "[[0. 0. 0.]\n",
      " [0. 0. 0.]]\n",
      "\n",
      "----------- 5 ----------\n",
      "[[1. 0. 0.]\n",
      " [0. 1. 0.]\n",
      " [0. 0. 1.]]\n",
      "\n",
      "----------- 6 ----------\n",
      "[[1.]\n",
      " [0.]\n",
      " [0.]]\n",
      "\n",
      "----------- 7 ----------\n",
      "[[10 10 10]\n",
      " [10 10 10]]\n",
      "\n",
      "----------- 8 ----------\n",
      "[[1 2 3]\n",
      " [1 2 3]]\n",
      "\n",
      "----------- 9 ----------\n",
      "[0.32242072 0.4514259  0.50516782]\n",
      "\n",
      "----------- 10 ----------\n",
      "[[0.64803398 0.60012536 0.05505646]\n",
      " [0.41671923 0.3774417  0.86574841]\n",
      " [0.76841108 0.70869675 0.90352828]]\n",
      "\n",
      "----------- 11 ----------\n",
      "[ 7.21670963 14.42035775  8.91768505]\n",
      "\n",
      "----------- 12 ----------\n",
      "[[-0.10051846 -1.73797569]\n",
      " [ 0.67672649  0.05324714]]\n",
      "\n",
      "----------- 13 ----------\n",
      "[ 7.56491419  3.31205717 -0.42491009]\n",
      "\n",
      "----------- 14 ----------\n",
      "[[14  6  9]\n",
      " [ 5  8  8]]\n",
      "\n",
      "----------- 15 ----------\n",
      "[2 3]\n",
      "\n",
      "----------- 16 ----------\n",
      "[3 4 1 2]\n",
      "\n",
      "----------- 17 ----------\n",
      "None\n",
      "\n"
     ]
    }
   ],
   "source": [
    "import numpy as np\n",
    "print('----------- 1 ----------\\n{}\\n'.format(np.array([1, 2, 3])))\n",
    "print('----------- 2 ----------\\n{}\\n'.format(np.linspace(1, 5, 11)))  # 起始， 终止（包含）， 样本个数\n",
    "print('----------- 3 ----------\\n{}\\n'.format(np.arange(1, 5, 2)))\n",
    "print('----------- 4 ----------\\n{}\\n'.format(np.zeros((2, 3))))\n",
    "print('----------- 5 ----------\\n{}\\n'.format(np.eye(3)))\n",
    "print('----------- 6 ----------\\n{}\\n'.format(np.eye(3, 1)))  # 偏离主对角线 1 个单位\n",
    "print('----------- 7 ----------\\n{}\\n'.format(np.full((2, 3), 10)))  # np.zeros 是一个特例\n",
    "print('----------- 8 ----------\\n{}\\n'.format(np.full((2, 3), [1, 2, 3])))  # 每行传入的向量\n",
    "print('----------- 9 ----------\\n{}\\n'.format(np.random.rand(3)))\n",
    "print('----------- 10 ----------\\n{}\\n'.format(np.random.rand(3, 3)))  # 和上面的zeros参数不一样\n",
    "print('----------- 11 ----------\\n{}\\n'.format((15 - 5) * np.random.rand(3) + 5))  # 均匀分布\n",
    "print('----------- 12 ----------\\n{}\\n'.format(np.random.randn(2, 2)))  # N(0, 1) 的标准正态分布\n",
    "print('----------- 13 ----------\\n{}\\n'.format(np.random.randn(3) * 2.5 + 4)) # 方差为 2.5, 均值为 4 的正态分布\n",
    "print('----------- 14 ----------\\n{}\\n'.format(np.random.randint(5, 15, (2,3))))  # [5, 15）间规模为(2, 3)的随机整数\n",
    "print('----------- 15 ----------\\n{}\\n'.format(np.random.choice([1,2,3,4], 2, replace = False, p=[0.1,0.7,0.1,0.1])))  # 给定列表，随机抽取，定抽取样本数，默认放回抽样，默认均匀采样\n",
    "print('----------- 16 ----------\\n{}\\n'.format(np.random.permutation([1,2,3,4])))  # 洗牌，相当于 choice 不重复取 n 个\n",
    "print('----------- 17 ----------\\n{}\\n'.format(np.random.seed()))  # 固定随机数输出"
   ]
  },
  {
   "cell_type": "markdown",
   "metadata": {},
   "source": [
    "##### 2. np 数组的变形与合并\n",
    ".T 转置，r_/c_ 合并，reshape 变换"
   ]
  },
  {
   "cell_type": "code",
   "execution_count": 9,
   "metadata": {},
   "outputs": [
    {
     "name": "stdout",
     "output_type": "stream",
     "text": [
      "------------ 1 ------------\n",
      "[[0. 0. 0.]\n",
      " [0. 0. 0.]\n",
      " [0. 0. 0.]\n",
      " [0. 0. 0.]]\n",
      "\n",
      "------------ 2 ------------\n",
      "[[0. 0. 0. 0. 0. 0.]\n",
      " [0. 0. 0. 0. 0. 0.]]\n",
      "\n",
      "------------ 3 ------------\n",
      "[[0. 0.]\n",
      " [0. 0.]]\n",
      "\n"
     ]
    }
   ],
   "source": [
    "# r_/c_ 合并\n",
    "print('------------ 1 ------------\\n{}\\n'.format(np.r_[np.zeros((2, 3)), np.zeros((2, 3))]))\n",
    "print('------------ 2 ------------\\n{}\\n'.format(np.c_[np.zeros((2, 3)), np.zeros((2, 3))]))\n",
    "print('------------ 3 ------------\\n{}\\n'.format(np.c_[np.array([0, 0]), np.zeros(2)]))  # 一维和二维合并，一维作为列处理"
   ]
  },
  {
   "cell_type": "code",
   "execution_count": 10,
   "metadata": {},
   "outputs": [
    {
     "name": "stdout",
     "output_type": "stream",
     "text": [
      "------------ 1 ------------\n",
      "[[0 1 2 3]\n",
      " [4 5 6 7]]\n",
      "\n",
      "------------ 2 ------------\n",
      "[[0 1]\n",
      " [2 3]\n",
      " [4 5]\n",
      " [6 7]]\n",
      "\n",
      "------------ 3 ------------\n",
      "[[0 2]\n",
      " [4 6]\n",
      " [1 3]\n",
      " [5 7]]\n",
      "\n",
      "------------ 4 ------------\n",
      "[[0 1]\n",
      " [2 3]\n",
      " [4 5]\n",
      " [6 7]]\n",
      "\n",
      "------------ 5 ------------\n",
      "[[1.]\n",
      " [1.]\n",
      " [1.]]\n",
      "[1. 1. 1.]\n"
     ]
    }
   ],
   "source": [
    "# shape 变换 按照新维度重新排列 C/F 按行和列填充读取\n",
    "print('------------ 1 ------------\\n{}\\n'.format(np.arange(8).reshape(2, 4)))\n",
    "print('------------ 2 ------------\\n{}\\n'.format(np.arange(8).reshape(2, 4).reshape((4, 2), order = 'C')))  # 按照行填充\n",
    "print('------------ 3 ------------\\n{}\\n'.format(np.arange(8).reshape(2, 4).reshape((4, 2), order = 'F')))  # 按照列填充, 按行读取，按行填写\n",
    "print('------------ 4 ------------\\n{}\\n'.format(np.arange(8).reshape((4, -1))))  # 对允许缺失的维度，填充 -1\n",
    "print('------------ 5 ------------\\n{}\\n{}'.format(np.ones((3, 1)), np.ones((3, 1)).reshape(-1)))  # 将任意数组，转化为一维数组"
   ]
  },
  {
   "cell_type": "markdown",
   "metadata": {},
   "source": [
    "### 3. np 数组的切片和索引\n",
    "slice类 -> startL: end: step， 直接传入列表制定维度索引切片\n"
   ]
  },
  {
   "cell_type": "code",
   "execution_count": 11,
   "metadata": {},
   "outputs": [
    {
     "name": "stdout",
     "output_type": "stream",
     "text": [
      "------------ 1 ------------\n",
      "[[0 1 2]\n",
      " [3 4 5]\n",
      " [6 7 8]]\n",
      "\n",
      "------------ 2 ------------\n",
      "[[0 2]\n",
      " [3 5]]\n",
      "\n",
      "------------ 3 ------------\n",
      "[[0 2]\n",
      " [6 8]]\n",
      "\n",
      "------------ 4 ------------\n",
      "[[3 5]\n",
      " [6 8]]\n",
      "\n",
      "------------ 5 ------------\n",
      "[0 2 4 6 8]\n",
      "\n"
     ]
    }
   ],
   "source": [
    "target = np.arange(9).reshape(3, 3)\n",
    "print('------------ 1 ------------\\n{}\\n'.format(target))\n",
    "print('------------ 2 ------------\\n{}\\n'.format(target[:-1, [0, 2]]))\n",
    "print('------------ 3 ------------\\n{}\\n'.format(target[np.ix_([True, False, True], [True, False, True])]))  # np.ix_ 对应维度使用布尔索引\n",
    "print('------------ 4 ------------\\n{}\\n'.format(target[np.ix_([1,2], [True, False, True])]))\n",
    "print('------------ 5 ------------\\n{}\\n'.format(target.reshape(-1)[target.reshape(-1)%2 == 0]))"
   ]
  },
  {
   "cell_type": "markdown",
   "metadata": {},
   "source": [
    "### 4. 常见函数\n",
    "where 指定满足与不满足条件的值；nonzero，argmax，argmin 返回索引\n",
    "\n",
    "any，all 存在 和 任意；cumprob，cumsum，diff，累乘，累加，差\n",
    "\n",
    "max, min, mean, median, std, var, sum, quantile 统计函数\n"
   ]
  },
  {
   "cell_type": "code",
   "execution_count": 12,
   "metadata": {},
   "outputs": [
    {
     "name": "stdout",
     "output_type": "stream",
     "text": [
      "------------ 1 ------------\n",
      "[5 5 5 5 1 3 5]\n",
      "\n",
      "------------ 2 ------------\n",
      "(array([0, 1, 4, 5, 6]),)\n",
      "\n",
      "------------ 3 ------------\n",
      "5\n",
      "\n",
      "------------ 4 ------------\n",
      "1\n",
      "\n",
      "------------ 5 ------------\n",
      "True\n",
      "\n",
      "------------ 6 ------------\n",
      "False\n",
      "\n",
      "------------ 7 ------------\n",
      "[-2 10  0  0  0  0  0]\n",
      "\n",
      "------------ 8 ------------\n",
      "[-2 -7 -7 -7 -6 -3 -4]\n",
      "\n",
      "------------ 9 ------------\n",
      "[-3  5  0  1  2 -4]\n",
      "\n",
      "------------ 10 ------------\n",
      "3\n",
      "\n",
      "------------ 11 ------------\n",
      "0.0\n",
      "\n",
      "------------ 12 ------------\n",
      "3\n",
      "\n",
      "------------ 13 ------------\n",
      "[[6.28571429 6.28571429]\n",
      " [6.28571429 6.28571429]]\n",
      "\n",
      "------------ 14 ------------\n",
      "[[1. 1.]\n",
      " [1. 1.]]\n",
      "\n",
      "------------ 15 ------------\n",
      "-4\n",
      "\n"
     ]
    }
   ],
   "source": [
    "a = np.array([-2, -5, 0, 0, 1, 3, -1])\n",
    "print('------------ 1 ------------\\n{}\\n'.format(np.where(a > 0, a, 5)))  # 替换满足和不满足条件的值\n",
    "\n",
    "print('------------ 2 ------------\\n{}\\n'.format(np.nonzero(a)))  # 返回非 0 索引\n",
    "print('------------ 3 ------------\\n{}\\n'.format(a.argmax()))  # 返回最大值索引\n",
    "print('------------ 4 ------------\\n{}\\n'.format(a.argmin()) ) # 返回最小值索引\n",
    "\n",
    "print('------------ 5 ------------\\n{}\\n'.format(a.any()))  # 存在一个 True 就返回 True\n",
    "print('------------ 6 ------------\\n{}\\n'.format(a.all()))  # 存在一个 False 就返回 False\n",
    "\n",
    "print('------------ 7 ------------\\n{}\\n'.format(a.cumprod()))  # 累乘\n",
    "print('------------ 8 ------------\\n{}\\n'.format(a.cumsum()))  # 累加\n",
    "print('------------ 9 ------------\\n{}\\n'.format(np.diff(a)))  # 差 长度 － 1\n",
    "\n",
    "print('------------ 10 ------------\\n{}\\n'.format(a.max()))\n",
    "print('------------ 11 ------------\\n{}\\n'.format(np.quantile(a, 0.5)))  # 0.5 分位数\n",
    "print('------------ 12 ------------\\n{}\\n'.format(np.nanmax(a)))  # 略过缺失值\n",
    "print('------------ 13 ------------\\n{}\\n'.format(np.cov(a, a + 1)))  # 协方差\n",
    "print('------------ 14 ------------\\n{}\\n'.format(np.corrcoef(a, a + 1)))  # 相关系数\n",
    "print('------------ 15 ------------\\n{}\\n'.format(a.sum(0)))  # axis = 0 表示为列的统计指标"
   ]
  },
  {
   "cell_type": "markdown",
   "metadata": {},
   "source": [
    "### 5. 广播机制\n",
    "不同维度数组间：标量和数组；二维数组间；一维和二维数组"
   ]
  },
  {
   "cell_type": "code",
   "execution_count": 13,
   "metadata": {},
   "outputs": [
    {
     "name": "stdout",
     "output_type": "stream",
     "text": [
      "[[4. 4.]\n",
      " [4. 4.]]\n",
      "[[0.25 0.25]\n",
      " [0.25 0.25]]\n"
     ]
    }
   ],
   "source": [
    "res = 3 * np.ones((2, 2)) + 1\n",
    "print(\"{}\".format(res))\n",
    "print(\"{}\".format(1 / res))"
   ]
  },
  {
   "cell_type": "code",
   "execution_count": 14,
   "metadata": {},
   "outputs": [
    {
     "name": "stdout",
     "output_type": "stream",
     "text": [
      "------------ 1 ------------\n",
      "[[2. 3.]\n",
      " [2. 3.]\n",
      " [2. 3.]]\n",
      "\n",
      "------------ 2 ------------\n",
      "[[2. 2.]\n",
      " [3. 3.]\n",
      " [4. 4.]]\n",
      "\n",
      "------------ 3 ------------\n",
      "[[2. 2.]\n",
      " [2. 2.]\n",
      " [2. 2.]]\n",
      "\n"
     ]
    }
   ],
   "source": [
    "res = np.ones((3, 2))\n",
    "print('------------ 1 ------------\\n{}\\n'.format(res * np.array([[2, 3]])))  # 扩充第一维度为 3\n",
    "print('------------ 2 ------------\\n{}\\n'.format(res * np.array([[2], [3], [4]])))  # 扩充第二维度为 2\n",
    "print('------------ 3 ------------\\n{}\\n'.format(res * np.array([[2]])))  # 等价于两次扩充"
   ]
  },
  {
   "cell_type": "markdown",
   "metadata": {},
   "source": [
    "![广播机制](https://upload-images.jianshu.io/upload_images/25239821-197a2df5a9a5afd5.png)\n",
    "[广播机制](https://blog.csdn.net/emy_zj/article/details/104723476)"
   ]
  },
  {
   "cell_type": "code",
   "execution_count": 15,
   "metadata": {},
   "outputs": [
    {
     "name": "stdout",
     "output_type": "stream",
     "text": [
      "------------ 1 ------------\n",
      "[[2. 2. 2.]\n",
      " [2. 2. 2.]]\n",
      "\n",
      "------------ 2 ------------\n",
      "[[2. 2. 2.]\n",
      " [2. 2. 2.]]\n",
      "\n",
      "------------ 3 ------------\n",
      "[[2. 2. 2.]\n",
      " [2. 2. 2.]]\n",
      "\n"
     ]
    }
   ],
   "source": [
    "\n",
    "print('------------ 1 ------------\\n{}\\n'.format(np.ones(3) + np.ones((2, 3))))  \n",
    "print('------------ 2 ------------\\n{}\\n'.format(np.ones(3) + np.ones((2, 1))))  \n",
    "print('------------ 3 ------------\\n{}\\n'.format(np.ones(1) + np.ones((2, 3))))\n"
   ]
  },
  {
   "cell_type": "markdown",
   "metadata": {},
   "source": [
    "### 6. 向量与矩阵的计算\n",
    "向量内积：dot；向量范数和矩阵范数(ord参数如下)：np.linalg.norm；矩阵乘法：@"
   ]
  },
  {
   "cell_type": "markdown",
   "metadata": {},
   "source": [
    "   | ord | norm for matrices | norm for vectors |\n",
    "   | :---- | ----: | ----: |\n",
    "   | None   | Frobenius norm | 2-norm |\n",
    "    | 'fro'  | Frobenius norm  | / |\n",
    "    | 'nuc'  | nuclear norm    | / |\n",
    "    | inf    | max(sum(abs(x), axis=1))   | max(abs(x)) |\n",
    "    | -inf   | min(sum(abs(x), axis=1))  |  min(abs(x)) |\n",
    "    | 0      | /   |  sum(x != 0) |\n",
    "    | 1      | max(sum(abs(x), axis=0))  |  as below |\n",
    "    | -1     | min(sum(abs(x), axis=0))   |  as below |\n",
    "    | 2      | 2-norm (largest sing. value) | as below |\n",
    "    | -2     | smallest singular value    | as below |\n",
    "    | other  | /   | sum(abs(x)**ord)**(1./ord) |"
   ]
  },
  {
   "cell_type": "code",
   "execution_count": 16,
   "metadata": {},
   "outputs": [
    {
     "data": {
      "text/plain": [
       "22"
      ]
     },
     "execution_count": 16,
     "metadata": {},
     "output_type": "execute_result"
    }
   ],
   "source": [
    "a = np.array([1, 2, 3])\n",
    "b = np.array([1, 3, 5])\n",
    "a.dot(b)"
   ]
  },
  {
   "cell_type": "code",
   "execution_count": 17,
   "metadata": {},
   "outputs": [
    {
     "name": "stdout",
     "output_type": "stream",
     "text": [
      "------------ 1 --------------\n",
      "[[0 1]\n",
      " [2 3]]\n",
      "\n",
      "------------ 2 --------------\n",
      "3.7416573867739413\n",
      "\n",
      "------------ 3 --------------\n",
      "5.0\n",
      "\n",
      "------------ 4 --------------\n",
      "3.702459173643833\n",
      "\n",
      "------------ 5 --------------\n",
      "3.0\n",
      "\n",
      "------------ 6 --------------\n",
      "3.7416573867739413\n",
      "\n",
      "------------ 7 --------------\n",
      "3.3019272488946263\n",
      "\n"
     ]
    }
   ],
   "source": [
    "matrix_target = np.arange(4).reshape(-1, 2)\n",
    "print('------------ 1 --------------\\n{}\\n'.format(matrix_target))\n",
    "print('------------ 2 --------------\\n{}\\n'.format(np.linalg.norm(matrix_target, 'fro')))\n",
    "print('------------ 3 --------------\\n{}\\n'.format(np.linalg.norm(matrix_target, np.inf)))\n",
    "print('------------ 4 --------------\\n{}\\n'.format(np.linalg.norm(matrix_target, 2)))\n",
    "print('------------ 5 --------------\\n{}\\n'.format(np.linalg.norm(matrix_target.reshape(-1), np.inf)))\n",
    "print('------------ 6 --------------\\n{}\\n'.format(np.linalg.norm(matrix_target.reshape(-1), 2)))\n",
    "print('------------ 7 --------------\\n{}\\n'.format(np.linalg.norm(matrix_target.reshape(-1), 3)))\n"
   ]
  },
  {
   "cell_type": "code",
   "execution_count": 18,
   "metadata": {},
   "outputs": [
    {
     "name": "stdout",
     "output_type": "stream",
     "text": [
      "----------- 1 -------------\n",
      "[[0 1]\n",
      " [2 3]]\n",
      "\n",
      "----------- 2 -------------\n",
      "[[-4 -3]\n",
      " [-2 -1]]\n",
      "\n",
      "----------- 3 -------------\n",
      "[[ -2  -1]\n",
      " [-14  -9]]\n",
      "\n"
     ]
    }
   ],
   "source": [
    "a = np.arange(4).reshape(-1, 2)\n",
    "b = np.arange(-4, 0).reshape(-1, 2)\n",
    "print('----------- 1 -------------\\n{}\\n'.format(a))\n",
    "print('----------- 2 -------------\\n{}\\n'.format(b))\n",
    "print('----------- 3 -------------\\n{}\\n'.format(a@b))\n"
   ]
  },
  {
   "cell_type": "markdown",
   "metadata": {},
   "source": [
    "# 三、联系"
   ]
  },
  {
   "cell_type": "markdown",
   "metadata": {},
   "source": [
    "### Ex1： 利用列表推导式写矩阵乘法"
   ]
  },
  {
   "cell_type": "code",
   "execution_count": 19,
   "metadata": {},
   "outputs": [
    {
     "data": {
      "text/plain": [
       "True"
      ]
     },
     "execution_count": 19,
     "metadata": {},
     "output_type": "execute_result"
    }
   ],
   "source": [
    "# 三重循环\n",
    "M1 = np.random.rand(2,3)\n",
    "M2 = np.random.rand(3,4)\n",
    "res = np.empty((M1.shape[0],M2.shape[1]))\n",
    "for i in range(M1.shape[0]):\n",
    "    for j in range(M2.shape[1]):\n",
    "        item = 0\n",
    "        for k in range(M1.shape[1]):\n",
    "            item += M1[i][k] * M2[k][j]\n",
    "        res[i][j] = item\n",
    "((M1@M2 - res) < 1e-15).all() # 排除数值误差"
   ]
  },
  {
   "cell_type": "code",
   "execution_count": 20,
   "metadata": {},
   "outputs": [
    {
     "name": "stdout",
     "output_type": "stream",
     "text": [
      "------- M1 --------- \n",
      "[[0.97504847 0.18982414 0.79669579]\n",
      " [0.69722858 0.98720653 0.94359789]]\n",
      "------- M2 --------\n",
      "[[0.78321487 0.24367814 0.06931667 0.0478412 ]\n",
      " [0.47249692 0.00949655 0.06062225 0.78642644]\n",
      " [0.54570739 0.13972354 0.19661355 0.73994575]]\n",
      "------- M1 * M2 --------\n",
      "[[1.28812657 0.35071784 0.23573587 0.78544187]\n",
      " [1.52746019 0.31111727 0.29370038 1.50793282]]\n",
      "------- res --------\n",
      "[[1.28812657 0.35071784 0.23573587 0.78544187]\n",
      " [1.52746019 0.31111727 0.29370038 1.50793282]]\n",
      "\n"
     ]
    },
    {
     "data": {
      "text/plain": [
       "True"
      ]
     },
     "execution_count": 20,
     "metadata": {},
     "output_type": "execute_result"
    }
   ],
   "source": [
    "# 列表推导式\n",
    "M1 = np.random.rand(2,3)\n",
    "M2 = np.random.rand(3,4)\n",
    "\n",
    "res = np.empty((M1.shape[0],M2.shape[1]))\n",
    "res = np.array([[sum([M1[i][k] * M2[k][j]for k in range(M1.shape[1])]) for j in range(M2.shape[1])] for i in range(M1.shape[0])])\n",
    "print('------- M1 --------- \\n{}\\n------- M2 --------\\n{}\\n------- M1 * M2 --------\\n{}\\n------- res --------\\n{}\\n'.format(M1, M2, M1.dot(M2), res))\n",
    "((M1@M2 - res) < 1e-15).all()  # 排除数值误差"
   ]
  },
  {
   "cell_type": "markdown",
   "metadata": {},
   "source": [
    "### Ex2：更新矩阵\n",
    "设矩阵 $A_{m×n}$ ，现在对 $A$ 中的每一个元素进行更新生成矩阵 $B$ ，更新方法是 $B_{ij}=A_{ij}\\sum_{k=1}^n\\frac{1}{A_{ik}}$ ，例如下面的矩阵为 $A$ ，则 $B_{2,2}=5\\times(\\frac{1}{4}+\\frac{1}{5}+\\frac{1}{6})=\\frac{37}{12}$ ，请利用 `Numpy` 高效实现。\n",
    "$$\\begin{split}A=\\left[ \\begin{matrix} 1 & 2 &3\\\\4&5&6\\\\7&8&9 \\end{matrix} \\right]\\end{split}$$"
   ]
  },
  {
   "cell_type": "code",
   "execution_count": 21,
   "metadata": {},
   "outputs": [
    {
     "name": "stdout",
     "output_type": "stream",
     "text": [
      "---------- A -----------\n",
      "[[1 2 3]\n",
      " [4 5 6]\n",
      " [7 8 9]]\n",
      "----------- B ------------\n",
      "[[1.83333333 3.66666667 5.5       ]\n",
      " [2.46666667 3.08333333 3.7       ]\n",
      " [2.65277778 3.03174603 3.41071429]]\n",
      "\n"
     ]
    }
   ],
   "source": [
    "A = np.arange(1, 10).reshape(3, -1)\n",
    "B = np.empty(A.shape)\n",
    "B = np.array([[A[i][j] * sum([1/A[i][k] for k in range(A.shape[1])]) for j in range(A.shape[1])] for i in range(A.shape[0])])\n",
    "print('---------- A -----------\\n{}\\n----------- B ------------\\n{}\\n'.format(A, B))"
   ]
  },
  {
   "cell_type": "markdown",
   "metadata": {},
   "source": [
    "### Ex3：卡方统计量\n",
    "\n",
    "设矩阵$A_{m\\times n}$，记$B_{ij} = \\frac{(\\sum_{i=1}^mA_{ij})\\times (\\sum_{j=1}^nA_{ij})}{\\sum_{i=1}^m\\sum_{j=1}^nA_{ij}}$，定义卡方值如下：\n",
    "$$\\chi^2 = \\sum_{i=1}^m\\sum_{j=1}^n\\frac{(A_{ij}-B_{ij})^2}{B_{ij}}$$\n",
    "请利用`Numpy`对给定的矩阵$A$计算$\\chi^2$ "
   ]
  },
  {
   "cell_type": "code",
   "execution_count": 22,
   "metadata": {},
   "outputs": [
    {
     "name": "stdout",
     "output_type": "stream",
     "text": [
      "11.842696601945802\n"
     ]
    }
   ],
   "source": [
    "np.random.seed(0)\n",
    "A = np.random.randint(10, 20, (8, 5))\n",
    "B = np.empty(A.shape)\n",
    "# stupid method\n",
    "# B = np.array([[sum(A)[j] * sum(A.T)[i] / sum(A.reshape(-1)) for j in range(A.shape[1])] for i in range(A.shape[0])])\n",
    "# broadcast\n",
    "B = np.array(sum(A)) * np.array(sum(A.T)).reshape(-1, 1) / sum(A.reshape(-1))\n",
    "x_2 = sum([(A[i, j] - B[i, j]) ** 2 / B[i, j] for j in range(A.shape[1]) for i in range(A.shape[0])])\n",
    "print(x_2)"
   ]
  },
  {
   "cell_type": "markdown",
   "metadata": {},
   "source": [
    "### Ex4：改进矩阵计算的性能\n",
    "设$Z$为$m×n$的矩阵，$B$和$U$分别是$m×p$和$p×n$的矩阵，$B_i$为$B$的第$i$行，$U_j$为$U$的第$j$列，下面定义$\\displaystyle R=\\sum_{i=1}^m\\sum_{j=1}^n\\|B_i-U_j\\|_2^2Z_{ij}$，其中$\\|\\mathbf{a}\\|_2^2$表示向量$a$的分量平方和$\\sum_i a_i^2$。\n",
    "\n",
    "现有某人根据如下给定的样例数据计算$R$的值，请充分利用`Numpy`中的函数，基于此问题改进这段代码的性能。"
   ]
  },
  {
   "cell_type": "code",
   "execution_count": 23,
   "metadata": {},
   "outputs": [
    {
     "name": "stdout",
     "output_type": "stream",
     "text": [
      "\n"
     ]
    }
   ],
   "source": [
    "np.random.seed(0)\n",
    "m, n, p = 100, 80, 50\n",
    "B = np.random.randint(0, 2, (m, p))\n",
    "U = np.random.randint(0, 2, (p, n))\n",
    "Z = np.random.randint(0, 2, (m, n))\n",
    "print()"
   ]
  },
  {
   "cell_type": "code",
   "execution_count": 24,
   "metadata": {},
   "outputs": [
    {
     "data": {
      "text/plain": [
       "100566"
      ]
     },
     "execution_count": 24,
     "metadata": {},
     "output_type": "execute_result"
    }
   ],
   "source": [
    "def solution(B=B, U=U, Z=Z):\n",
    "    L_res = []\n",
    "    for i in range(m):\n",
    "        for j in range(n):\n",
    "            norm_value = ((B[i]-U[:,j])**2).sum()\n",
    "            L_res.append(norm_value*Z[i][j])\n",
    "    return sum(L_res)\n",
    "solution(B, U, Z)"
   ]
  },
  {
   "cell_type": "code",
   "execution_count": 25,
   "metadata": {},
   "outputs": [
    {
     "data": {
      "text/plain": [
       "100566"
      ]
     },
     "execution_count": 25,
     "metadata": {},
     "output_type": "execute_result"
    }
   ],
   "source": [
    "sum([sum(np.array([sum([i**2 for i in rows]) for rows in (B - U[:, i])]) * np.array(Z[:, i])) for i in range(n)])"
   ]
  },
  {
   "cell_type": "markdown",
   "metadata": {},
   "source": [
    "### Ex5：连续整数的最大长度\n",
    "\n",
    "输入一个整数的`Numpy`数组，返回其中递增连续整数子数组的最大长度，正向是指递增方向。例如，输入\\[1,2,5,6,7\\]，\\[5,6,7\\]为具有最大长度的连续整数子数组，因此输出3；输入\\[3,2,1,2,3,4,6\\]，\\[1,2,3,4\\]为具有最大长度的连续整数子数组，因此输出4。请充分利用`Numpy`的内置函数完成。（提示：考虑使用`nonzero, diff`函数）\n"
   ]
  },
  {
   "cell_type": "code",
   "execution_count": 84,
   "metadata": {},
   "outputs": [
    {
     "data": {
      "text/plain": [
       "3"
      ]
     },
     "execution_count": 84,
     "metadata": {},
     "output_type": "execute_result"
    }
   ],
   "source": [
    "input_a = [1,2,5,6,7]\n",
    "# np.random.randint(-10, 11, (1, 4000000))\n",
    "b = np.diff(input_a)\n",
    "c = np.diff(b)\n",
    "d = list(np.nonzero(c)[0]) + [len(c)]\n",
    "str_max = d[0] + 1\n",
    "for index in range(1, len(d)):\n",
    "    count = d[index] - d[index - 1]\n",
    "    if count > str_max:\n",
    "        str_max = count \n",
    "str_max += 1\n",
    "str_max"
   ]
  }
 ],
 "metadata": {
  "kernelspec": {
   "display_name": "Python 3",
   "language": "python",
   "name": "python3"
  },
  "language_info": {
   "codemirror_mode": {
    "name": "ipython",
    "version": 3
   },
   "file_extension": ".py",
   "mimetype": "text/x-python",
   "name": "python",
   "nbconvert_exporter": "python",
   "pygments_lexer": "ipython3",
   "version": "3.7.9"
  }
 },
 "nbformat": 4,
 "nbformat_minor": 4
}
